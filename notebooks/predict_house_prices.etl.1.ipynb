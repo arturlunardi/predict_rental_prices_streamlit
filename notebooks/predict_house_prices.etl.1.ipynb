{
 "metadata": {
  "language_info": {
   "codemirror_mode": {
    "name": "ipython",
    "version": 3
   },
   "file_extension": ".py",
   "mimetype": "text/x-python",
   "name": "python",
   "nbconvert_exporter": "python",
   "pygments_lexer": "ipython3",
   "version": "3.8.10"
  },
  "orig_nbformat": 4,
  "kernelspec": {
   "name": "python3",
   "display_name": "Python 3.8.10 64-bit ('base': conda)"
  },
  "interpreter": {
   "hash": "fc33febecb25bf51ecb9e8745ca02a2d49ab50b5c3e3d57ffb721b0f2206d5d8"
  }
 },
 "nbformat": 4,
 "nbformat_minor": 2,
 "cells": [
  {
   "cell_type": "code",
   "execution_count": 1,
   "source": [
    "import pandas as pd\r\n",
    "import numpy as np\r\n",
    "import matplotlib.pyplot as plt\r\n",
    "import seaborn as sns\r\n",
    "from math import ceil, floor"
   ],
   "outputs": [],
   "metadata": {}
  },
  {
   "cell_type": "code",
   "execution_count": 2,
   "source": [
    "df = pd.read_csv(os.path.join(os.path.abspath('../data'), 'houses_to_rent_v2.csv'))"
   ],
   "outputs": [],
   "metadata": {}
  },
  {
   "cell_type": "markdown",
   "source": [
    "### Wrong Values"
   ],
   "metadata": {}
  },
  {
   "cell_type": "markdown",
   "source": [
    "As we've seen in the EDA, floor column appears to have '-' values. Let's check deeper."
   ],
   "metadata": {}
  },
  {
   "cell_type": "code",
   "execution_count": 3,
   "source": [
    "df.loc[df['floor'] == '-'].head()"
   ],
   "outputs": [
    {
     "output_type": "execute_result",
     "data": {
      "text/plain": [
       "         city  area  rooms  bathroom  parking spaces floor animal  \\\n",
       "5   São Paulo   376      3         3               7     -  acept   \n",
       "15   Campinas   330      4         6               6     -  acept   \n",
       "19  São Paulo   600      4         5               6     -  acept   \n",
       "20  São Paulo   100      7         4               0     -  acept   \n",
       "23  São Paulo    35      1         1               0     -  acept   \n",
       "\n",
       "        furniture  hoa (R$)  rent amount (R$)  property tax (R$)  \\\n",
       "5   not furnished         0              8000                834   \n",
       "15      furnished       680              8000                328   \n",
       "19  not furnished         0             12000               9500   \n",
       "20  not furnished         0              3800                118   \n",
       "23  not furnished         0              1100                  3   \n",
       "\n",
       "    fire insurance (R$)  total (R$)  \n",
       "5                   121        8955  \n",
       "15                  121        9129  \n",
       "19                  181       21680  \n",
       "20                   58        3976  \n",
       "23                   14        1117  "
      ],
      "text/html": [
       "<div>\n",
       "<style scoped>\n",
       "    .dataframe tbody tr th:only-of-type {\n",
       "        vertical-align: middle;\n",
       "    }\n",
       "\n",
       "    .dataframe tbody tr th {\n",
       "        vertical-align: top;\n",
       "    }\n",
       "\n",
       "    .dataframe thead th {\n",
       "        text-align: right;\n",
       "    }\n",
       "</style>\n",
       "<table border=\"1\" class=\"dataframe\">\n",
       "  <thead>\n",
       "    <tr style=\"text-align: right;\">\n",
       "      <th></th>\n",
       "      <th>city</th>\n",
       "      <th>area</th>\n",
       "      <th>rooms</th>\n",
       "      <th>bathroom</th>\n",
       "      <th>parking spaces</th>\n",
       "      <th>floor</th>\n",
       "      <th>animal</th>\n",
       "      <th>furniture</th>\n",
       "      <th>hoa (R$)</th>\n",
       "      <th>rent amount (R$)</th>\n",
       "      <th>property tax (R$)</th>\n",
       "      <th>fire insurance (R$)</th>\n",
       "      <th>total (R$)</th>\n",
       "    </tr>\n",
       "  </thead>\n",
       "  <tbody>\n",
       "    <tr>\n",
       "      <th>5</th>\n",
       "      <td>São Paulo</td>\n",
       "      <td>376</td>\n",
       "      <td>3</td>\n",
       "      <td>3</td>\n",
       "      <td>7</td>\n",
       "      <td>-</td>\n",
       "      <td>acept</td>\n",
       "      <td>not furnished</td>\n",
       "      <td>0</td>\n",
       "      <td>8000</td>\n",
       "      <td>834</td>\n",
       "      <td>121</td>\n",
       "      <td>8955</td>\n",
       "    </tr>\n",
       "    <tr>\n",
       "      <th>15</th>\n",
       "      <td>Campinas</td>\n",
       "      <td>330</td>\n",
       "      <td>4</td>\n",
       "      <td>6</td>\n",
       "      <td>6</td>\n",
       "      <td>-</td>\n",
       "      <td>acept</td>\n",
       "      <td>furnished</td>\n",
       "      <td>680</td>\n",
       "      <td>8000</td>\n",
       "      <td>328</td>\n",
       "      <td>121</td>\n",
       "      <td>9129</td>\n",
       "    </tr>\n",
       "    <tr>\n",
       "      <th>19</th>\n",
       "      <td>São Paulo</td>\n",
       "      <td>600</td>\n",
       "      <td>4</td>\n",
       "      <td>5</td>\n",
       "      <td>6</td>\n",
       "      <td>-</td>\n",
       "      <td>acept</td>\n",
       "      <td>not furnished</td>\n",
       "      <td>0</td>\n",
       "      <td>12000</td>\n",
       "      <td>9500</td>\n",
       "      <td>181</td>\n",
       "      <td>21680</td>\n",
       "    </tr>\n",
       "    <tr>\n",
       "      <th>20</th>\n",
       "      <td>São Paulo</td>\n",
       "      <td>100</td>\n",
       "      <td>7</td>\n",
       "      <td>4</td>\n",
       "      <td>0</td>\n",
       "      <td>-</td>\n",
       "      <td>acept</td>\n",
       "      <td>not furnished</td>\n",
       "      <td>0</td>\n",
       "      <td>3800</td>\n",
       "      <td>118</td>\n",
       "      <td>58</td>\n",
       "      <td>3976</td>\n",
       "    </tr>\n",
       "    <tr>\n",
       "      <th>23</th>\n",
       "      <td>São Paulo</td>\n",
       "      <td>35</td>\n",
       "      <td>1</td>\n",
       "      <td>1</td>\n",
       "      <td>0</td>\n",
       "      <td>-</td>\n",
       "      <td>acept</td>\n",
       "      <td>not furnished</td>\n",
       "      <td>0</td>\n",
       "      <td>1100</td>\n",
       "      <td>3</td>\n",
       "      <td>14</td>\n",
       "      <td>1117</td>\n",
       "    </tr>\n",
       "  </tbody>\n",
       "</table>\n",
       "</div>"
      ]
     },
     "metadata": {},
     "execution_count": 3
    }
   ],
   "metadata": {}
  },
  {
   "cell_type": "code",
   "execution_count": 4,
   "source": [
    "df.loc[df['floor'] != '-']['floor'].astype(int).describe()"
   ],
   "outputs": [
    {
     "output_type": "execute_result",
     "data": {
      "text/plain": [
       "count    8231.000000\n",
       "mean        6.583283\n",
       "std         6.153925\n",
       "min         1.000000\n",
       "25%         2.000000\n",
       "50%         5.000000\n",
       "75%         9.000000\n",
       "max       301.000000\n",
       "Name: floor, dtype: float64"
      ]
     },
     "metadata": {},
     "execution_count": 4
    }
   ],
   "metadata": {}
  },
  {
   "cell_type": "code",
   "execution_count": 5,
   "source": [
    "df['floor'].describe()"
   ],
   "outputs": [
    {
     "output_type": "execute_result",
     "data": {
      "text/plain": [
       "count     10692\n",
       "unique       35\n",
       "top           -\n",
       "freq       2461\n",
       "Name: floor, dtype: object"
      ]
     },
     "metadata": {},
     "execution_count": 5
    }
   ],
   "metadata": {}
  },
  {
   "cell_type": "code",
   "execution_count": 6,
   "source": [
    "# Since there are no other variable that have connection with floor and we don't know if floor it is a variable that we will use to train the model, let's fill it with the mean of the values.\r\n",
    "\r\n",
    "df['floor'] = df['floor'].replace({'-': np.nan})\r\n",
    "# we have to transform to float since np.nan it's a flot number\r\n",
    "df['floor'] = df['floor'].astype(float)\r\n",
    "# them, we fill the nan values with the mean. The mean it's a float number, but there are no float floor, it's a integer. So, we use ceil and floor in order to transform it to a integer.\r\n",
    "df['floor'] = df['floor'].fillna(ceil(df['floor'].mean()) if df['floor'].mean() % 2 > 0.5 else floor(df['floor'].mean()))\r\n",
    "# finally, let's transform the floor to int\r\n",
    "df['floor'] = df['floor'].astype('int64')"
   ],
   "outputs": [],
   "metadata": {}
  },
  {
   "cell_type": "code",
   "execution_count": 7,
   "source": [
    "df.info()"
   ],
   "outputs": [
    {
     "output_type": "stream",
     "name": "stdout",
     "text": [
      "<class 'pandas.core.frame.DataFrame'>\n",
      "RangeIndex: 10692 entries, 0 to 10691\n",
      "Data columns (total 13 columns):\n",
      " #   Column               Non-Null Count  Dtype \n",
      "---  ------               --------------  ----- \n",
      " 0   city                 10692 non-null  object\n",
      " 1   area                 10692 non-null  int64 \n",
      " 2   rooms                10692 non-null  int64 \n",
      " 3   bathroom             10692 non-null  int64 \n",
      " 4   parking spaces       10692 non-null  int64 \n",
      " 5   floor                10692 non-null  int64 \n",
      " 6   animal               10692 non-null  object\n",
      " 7   furniture            10692 non-null  object\n",
      " 8   hoa (R$)             10692 non-null  int64 \n",
      " 9   rent amount (R$)     10692 non-null  int64 \n",
      " 10  property tax (R$)    10692 non-null  int64 \n",
      " 11  fire insurance (R$)  10692 non-null  int64 \n",
      " 12  total (R$)           10692 non-null  int64 \n",
      "dtypes: int64(10), object(3)\n",
      "memory usage: 1.1+ MB\n"
     ]
    }
   ],
   "metadata": {}
  },
  {
   "cell_type": "markdown",
   "source": [
    "### Outliers"
   ],
   "metadata": {}
  },
  {
   "cell_type": "markdown",
   "source": [
    "In the EDA, we have discovered that hoa, property tax, area and maybe rent amount have outliers. To deal with them, we are going to use the interquartile range.\n",
    "\n",
    "We are going to check the fence in each city, in order to get the specificities on each one."
   ],
   "metadata": {}
  },
  {
   "cell_type": "code",
   "execution_count": 8,
   "source": [
    "def iqr(df, column):\r\n",
    "    \"\"\"\r\n",
    "    This function return the dataframe without the outliers. It uses the interquartile range for the column passed in the argument.\r\n",
    "    \"\"\"\r\n",
    "    data = df.copy()\r\n",
    "    city_group = data.groupby('city')[column]\r\n",
    "\r\n",
    "    Q1 = city_group.quantile(.25)\r\n",
    "    Q3 = city_group.quantile(.75)\r\n",
    "\r\n",
    "    # IQR = Interquartile Range\r\n",
    "    IQR = Q3 - Q1\r\n",
    "\r\n",
    "    # Limits\r\n",
    "    lower = Q1 - 1.5 * IQR\r\n",
    "    upper = Q3 + 1.5 * IQR\r\n",
    "\r\n",
    "    # DataFrame to store the new data\r\n",
    "    new_data = pd.DataFrame()\r\n",
    "\r\n",
    "    for city in city_group.groups.keys():\r\n",
    "        is_city = data['city'] == city\r\n",
    "        accepted_limit = ((data[column] >= lower[city]) &\r\n",
    "                        (data[column] <= upper[city]))\r\n",
    "        \r\n",
    "        select = is_city & accepted_limit\r\n",
    "        data_select = data[select]\r\n",
    "        new_data = pd.concat([new_data, data_select])\r\n",
    "\r\n",
    "    return new_data"
   ],
   "outputs": [],
   "metadata": {}
  },
  {
   "cell_type": "markdown",
   "source": [
    "Since we are going to do it for every single column, let's use our business knowledge and let's do for the most extreme to the least extreme values, in order to preserve data if possible."
   ],
   "metadata": {}
  },
  {
   "cell_type": "code",
   "execution_count": 9,
   "source": [
    "df.describe()"
   ],
   "outputs": [
    {
     "output_type": "execute_result",
     "data": {
      "text/plain": [
       "               area         rooms      bathroom  parking spaces         floor  \\\n",
       "count  10692.000000  10692.000000  10692.000000    10692.000000  10692.000000   \n",
       "mean     149.217920      2.506079      2.236813        1.609147      6.679199   \n",
       "std      537.016942      1.171266      1.407198        1.589521      5.402218   \n",
       "min       11.000000      1.000000      1.000000        0.000000      1.000000   \n",
       "25%       56.000000      2.000000      1.000000        0.000000      3.000000   \n",
       "50%       90.000000      2.000000      2.000000        1.000000      7.000000   \n",
       "75%      182.000000      3.000000      3.000000        2.000000      8.000000   \n",
       "max    46335.000000     13.000000     10.000000       12.000000    301.000000   \n",
       "\n",
       "           hoa (R$)  rent amount (R$)  property tax (R$)  fire insurance (R$)  \\\n",
       "count  1.069200e+04      10692.000000       10692.000000         10692.000000   \n",
       "mean   1.174022e+03       3896.247194         366.704358            53.300879   \n",
       "std    1.559231e+04       3408.545518        3107.832321            47.768031   \n",
       "min    0.000000e+00        450.000000           0.000000             3.000000   \n",
       "25%    1.700000e+02       1530.000000          38.000000            21.000000   \n",
       "50%    5.600000e+02       2661.000000         125.000000            36.000000   \n",
       "75%    1.237500e+03       5000.000000         375.000000            68.000000   \n",
       "max    1.117000e+06      45000.000000      313700.000000           677.000000   \n",
       "\n",
       "         total (R$)  \n",
       "count  1.069200e+04  \n",
       "mean   5.490487e+03  \n",
       "std    1.648473e+04  \n",
       "min    4.990000e+02  \n",
       "25%    2.061750e+03  \n",
       "50%    3.581500e+03  \n",
       "75%    6.768000e+03  \n",
       "max    1.120000e+06  "
      ],
      "text/html": [
       "<div>\n",
       "<style scoped>\n",
       "    .dataframe tbody tr th:only-of-type {\n",
       "        vertical-align: middle;\n",
       "    }\n",
       "\n",
       "    .dataframe tbody tr th {\n",
       "        vertical-align: top;\n",
       "    }\n",
       "\n",
       "    .dataframe thead th {\n",
       "        text-align: right;\n",
       "    }\n",
       "</style>\n",
       "<table border=\"1\" class=\"dataframe\">\n",
       "  <thead>\n",
       "    <tr style=\"text-align: right;\">\n",
       "      <th></th>\n",
       "      <th>area</th>\n",
       "      <th>rooms</th>\n",
       "      <th>bathroom</th>\n",
       "      <th>parking spaces</th>\n",
       "      <th>floor</th>\n",
       "      <th>hoa (R$)</th>\n",
       "      <th>rent amount (R$)</th>\n",
       "      <th>property tax (R$)</th>\n",
       "      <th>fire insurance (R$)</th>\n",
       "      <th>total (R$)</th>\n",
       "    </tr>\n",
       "  </thead>\n",
       "  <tbody>\n",
       "    <tr>\n",
       "      <th>count</th>\n",
       "      <td>10692.000000</td>\n",
       "      <td>10692.000000</td>\n",
       "      <td>10692.000000</td>\n",
       "      <td>10692.000000</td>\n",
       "      <td>10692.000000</td>\n",
       "      <td>1.069200e+04</td>\n",
       "      <td>10692.000000</td>\n",
       "      <td>10692.000000</td>\n",
       "      <td>10692.000000</td>\n",
       "      <td>1.069200e+04</td>\n",
       "    </tr>\n",
       "    <tr>\n",
       "      <th>mean</th>\n",
       "      <td>149.217920</td>\n",
       "      <td>2.506079</td>\n",
       "      <td>2.236813</td>\n",
       "      <td>1.609147</td>\n",
       "      <td>6.679199</td>\n",
       "      <td>1.174022e+03</td>\n",
       "      <td>3896.247194</td>\n",
       "      <td>366.704358</td>\n",
       "      <td>53.300879</td>\n",
       "      <td>5.490487e+03</td>\n",
       "    </tr>\n",
       "    <tr>\n",
       "      <th>std</th>\n",
       "      <td>537.016942</td>\n",
       "      <td>1.171266</td>\n",
       "      <td>1.407198</td>\n",
       "      <td>1.589521</td>\n",
       "      <td>5.402218</td>\n",
       "      <td>1.559231e+04</td>\n",
       "      <td>3408.545518</td>\n",
       "      <td>3107.832321</td>\n",
       "      <td>47.768031</td>\n",
       "      <td>1.648473e+04</td>\n",
       "    </tr>\n",
       "    <tr>\n",
       "      <th>min</th>\n",
       "      <td>11.000000</td>\n",
       "      <td>1.000000</td>\n",
       "      <td>1.000000</td>\n",
       "      <td>0.000000</td>\n",
       "      <td>1.000000</td>\n",
       "      <td>0.000000e+00</td>\n",
       "      <td>450.000000</td>\n",
       "      <td>0.000000</td>\n",
       "      <td>3.000000</td>\n",
       "      <td>4.990000e+02</td>\n",
       "    </tr>\n",
       "    <tr>\n",
       "      <th>25%</th>\n",
       "      <td>56.000000</td>\n",
       "      <td>2.000000</td>\n",
       "      <td>1.000000</td>\n",
       "      <td>0.000000</td>\n",
       "      <td>3.000000</td>\n",
       "      <td>1.700000e+02</td>\n",
       "      <td>1530.000000</td>\n",
       "      <td>38.000000</td>\n",
       "      <td>21.000000</td>\n",
       "      <td>2.061750e+03</td>\n",
       "    </tr>\n",
       "    <tr>\n",
       "      <th>50%</th>\n",
       "      <td>90.000000</td>\n",
       "      <td>2.000000</td>\n",
       "      <td>2.000000</td>\n",
       "      <td>1.000000</td>\n",
       "      <td>7.000000</td>\n",
       "      <td>5.600000e+02</td>\n",
       "      <td>2661.000000</td>\n",
       "      <td>125.000000</td>\n",
       "      <td>36.000000</td>\n",
       "      <td>3.581500e+03</td>\n",
       "    </tr>\n",
       "    <tr>\n",
       "      <th>75%</th>\n",
       "      <td>182.000000</td>\n",
       "      <td>3.000000</td>\n",
       "      <td>3.000000</td>\n",
       "      <td>2.000000</td>\n",
       "      <td>8.000000</td>\n",
       "      <td>1.237500e+03</td>\n",
       "      <td>5000.000000</td>\n",
       "      <td>375.000000</td>\n",
       "      <td>68.000000</td>\n",
       "      <td>6.768000e+03</td>\n",
       "    </tr>\n",
       "    <tr>\n",
       "      <th>max</th>\n",
       "      <td>46335.000000</td>\n",
       "      <td>13.000000</td>\n",
       "      <td>10.000000</td>\n",
       "      <td>12.000000</td>\n",
       "      <td>301.000000</td>\n",
       "      <td>1.117000e+06</td>\n",
       "      <td>45000.000000</td>\n",
       "      <td>313700.000000</td>\n",
       "      <td>677.000000</td>\n",
       "      <td>1.120000e+06</td>\n",
       "    </tr>\n",
       "  </tbody>\n",
       "</table>\n",
       "</div>"
      ]
     },
     "metadata": {},
     "execution_count": 9
    }
   ],
   "metadata": {}
  },
  {
   "cell_type": "code",
   "execution_count": 10,
   "source": [
    "# Let's create a function to see how much our standard deviation represent of the mean\r\n",
    "\r\n",
    "def deviate_from_mean(df):\r\n",
    "    data = df.copy()\r\n",
    "    columns = ['area', 'hoa (R$)', 'property tax (R$)', 'rent amount (R$)']\r\n",
    "    for column in columns:\r\n",
    "        # print(f'The Standard Deviation of {column} represents {round((data[column].std() - data[column].mean()) / data[column].mean() * 100, 2)}% of the mean')\r\n",
    "        print(f'The Standard Deviation of {column} represents {round(data[column].std() / data[column].mean() * 100, 2)}% of the mean')"
   ],
   "outputs": [],
   "metadata": {}
  },
  {
   "cell_type": "code",
   "execution_count": 11,
   "source": [
    "deviate_from_mean(df)"
   ],
   "outputs": [
    {
     "output_type": "stream",
     "name": "stdout",
     "text": [
      "The Standard Deviation of area represents 359.89% of the mean\n",
      "The Standard Deviation of hoa (R$) represents 1328.11% of the mean\n",
      "The Standard Deviation of property tax (R$) represents 847.5% of the mean\n",
      "The Standard Deviation of rent amount (R$) represents 87.48% of the mean\n"
     ]
    }
   ],
   "metadata": {}
  },
  {
   "cell_type": "markdown",
   "source": [
    "The most visible outliers are:\n",
    "\n",
    "1. hoa\n",
    "2. property tax\n",
    "3. area\n",
    "4. rent amount"
   ],
   "metadata": {}
  },
  {
   "cell_type": "code",
   "execution_count": 12,
   "source": [
    "df = iqr(df, 'hoa (R$)')"
   ],
   "outputs": [],
   "metadata": {}
  },
  {
   "cell_type": "code",
   "execution_count": 13,
   "source": [
    "deviate_from_mean(df)"
   ],
   "outputs": [
    {
     "output_type": "stream",
     "name": "stdout",
     "text": [
      "The Standard Deviation of area represents 390.11% of the mean\n",
      "The Standard Deviation of hoa (R$) represents 109.09% of the mean\n",
      "The Standard Deviation of property tax (R$) represents 985.43% of the mean\n",
      "The Standard Deviation of rent amount (R$) represents 87.03% of the mean\n"
     ]
    }
   ],
   "metadata": {}
  },
  {
   "cell_type": "markdown",
   "source": [
    "Now, let's do for property tax."
   ],
   "metadata": {}
  },
  {
   "cell_type": "code",
   "execution_count": 14,
   "source": [
    "df = iqr(df, 'property tax (R$)')"
   ],
   "outputs": [],
   "metadata": {}
  },
  {
   "cell_type": "code",
   "execution_count": 15,
   "source": [
    "deviate_from_mean(df)"
   ],
   "outputs": [
    {
     "output_type": "stream",
     "name": "stdout",
     "text": [
      "The Standard Deviation of area represents 140.58% of the mean\n",
      "The Standard Deviation of hoa (R$) represents 104.15% of the mean\n",
      "The Standard Deviation of property tax (R$) represents 126.46% of the mean\n",
      "The Standard Deviation of rent amount (R$) represents 83.5% of the mean\n"
     ]
    }
   ],
   "metadata": {}
  },
  {
   "cell_type": "markdown",
   "source": [
    "Apparently, there are no more outliers and there's no need to do it for other columns. Let's double check."
   ],
   "metadata": {}
  },
  {
   "cell_type": "code",
   "execution_count": 16,
   "source": [
    "df.describe()"
   ],
   "outputs": [
    {
     "output_type": "execute_result",
     "data": {
      "text/plain": [
       "               area        rooms     bathroom  parking spaces        floor  \\\n",
       "count   9350.000000  9350.000000  9350.000000     9350.000000  9350.000000   \n",
       "mean     115.445134     2.330481     1.978717        1.357540     6.535401   \n",
       "std      162.293992     1.074148     1.187555        1.362429     5.494421   \n",
       "min       11.000000     1.000000     1.000000        0.000000     1.000000   \n",
       "25%       52.250000     1.000000     1.000000        0.000000     3.000000   \n",
       "50%       80.000000     2.000000     2.000000        1.000000     7.000000   \n",
       "75%      142.000000     3.000000     3.000000        2.000000     8.000000   \n",
       "max    12732.000000    10.000000    10.000000       10.000000   301.000000   \n",
       "\n",
       "          hoa (R$)  rent amount (R$)  property tax (R$)  fire insurance (R$)  \\\n",
       "count  9350.000000       9350.000000        9350.000000          9350.000000   \n",
       "mean    723.550267       3276.711016         192.768021            44.566524   \n",
       "std     753.573868       2736.013449         243.777031            38.036449   \n",
       "min       0.000000        450.000000           0.000000             3.000000   \n",
       "25%     170.000000       1450.000000          28.000000            20.000000   \n",
       "50%     500.000000       2390.000000         100.000000            32.000000   \n",
       "75%    1000.000000       4000.000000         252.000000            54.000000   \n",
       "max    4000.000000      30000.000000        1193.000000           451.000000   \n",
       "\n",
       "         total (R$)  \n",
       "count   9350.000000  \n",
       "mean    4237.775508  \n",
       "std     3313.887589  \n",
       "min      499.000000  \n",
       "25%     1926.500000  \n",
       "50%     3146.500000  \n",
       "75%     5364.750000  \n",
       "max    31010.000000  "
      ],
      "text/html": [
       "<div>\n",
       "<style scoped>\n",
       "    .dataframe tbody tr th:only-of-type {\n",
       "        vertical-align: middle;\n",
       "    }\n",
       "\n",
       "    .dataframe tbody tr th {\n",
       "        vertical-align: top;\n",
       "    }\n",
       "\n",
       "    .dataframe thead th {\n",
       "        text-align: right;\n",
       "    }\n",
       "</style>\n",
       "<table border=\"1\" class=\"dataframe\">\n",
       "  <thead>\n",
       "    <tr style=\"text-align: right;\">\n",
       "      <th></th>\n",
       "      <th>area</th>\n",
       "      <th>rooms</th>\n",
       "      <th>bathroom</th>\n",
       "      <th>parking spaces</th>\n",
       "      <th>floor</th>\n",
       "      <th>hoa (R$)</th>\n",
       "      <th>rent amount (R$)</th>\n",
       "      <th>property tax (R$)</th>\n",
       "      <th>fire insurance (R$)</th>\n",
       "      <th>total (R$)</th>\n",
       "    </tr>\n",
       "  </thead>\n",
       "  <tbody>\n",
       "    <tr>\n",
       "      <th>count</th>\n",
       "      <td>9350.000000</td>\n",
       "      <td>9350.000000</td>\n",
       "      <td>9350.000000</td>\n",
       "      <td>9350.000000</td>\n",
       "      <td>9350.000000</td>\n",
       "      <td>9350.000000</td>\n",
       "      <td>9350.000000</td>\n",
       "      <td>9350.000000</td>\n",
       "      <td>9350.000000</td>\n",
       "      <td>9350.000000</td>\n",
       "    </tr>\n",
       "    <tr>\n",
       "      <th>mean</th>\n",
       "      <td>115.445134</td>\n",
       "      <td>2.330481</td>\n",
       "      <td>1.978717</td>\n",
       "      <td>1.357540</td>\n",
       "      <td>6.535401</td>\n",
       "      <td>723.550267</td>\n",
       "      <td>3276.711016</td>\n",
       "      <td>192.768021</td>\n",
       "      <td>44.566524</td>\n",
       "      <td>4237.775508</td>\n",
       "    </tr>\n",
       "    <tr>\n",
       "      <th>std</th>\n",
       "      <td>162.293992</td>\n",
       "      <td>1.074148</td>\n",
       "      <td>1.187555</td>\n",
       "      <td>1.362429</td>\n",
       "      <td>5.494421</td>\n",
       "      <td>753.573868</td>\n",
       "      <td>2736.013449</td>\n",
       "      <td>243.777031</td>\n",
       "      <td>38.036449</td>\n",
       "      <td>3313.887589</td>\n",
       "    </tr>\n",
       "    <tr>\n",
       "      <th>min</th>\n",
       "      <td>11.000000</td>\n",
       "      <td>1.000000</td>\n",
       "      <td>1.000000</td>\n",
       "      <td>0.000000</td>\n",
       "      <td>1.000000</td>\n",
       "      <td>0.000000</td>\n",
       "      <td>450.000000</td>\n",
       "      <td>0.000000</td>\n",
       "      <td>3.000000</td>\n",
       "      <td>499.000000</td>\n",
       "    </tr>\n",
       "    <tr>\n",
       "      <th>25%</th>\n",
       "      <td>52.250000</td>\n",
       "      <td>1.000000</td>\n",
       "      <td>1.000000</td>\n",
       "      <td>0.000000</td>\n",
       "      <td>3.000000</td>\n",
       "      <td>170.000000</td>\n",
       "      <td>1450.000000</td>\n",
       "      <td>28.000000</td>\n",
       "      <td>20.000000</td>\n",
       "      <td>1926.500000</td>\n",
       "    </tr>\n",
       "    <tr>\n",
       "      <th>50%</th>\n",
       "      <td>80.000000</td>\n",
       "      <td>2.000000</td>\n",
       "      <td>2.000000</td>\n",
       "      <td>1.000000</td>\n",
       "      <td>7.000000</td>\n",
       "      <td>500.000000</td>\n",
       "      <td>2390.000000</td>\n",
       "      <td>100.000000</td>\n",
       "      <td>32.000000</td>\n",
       "      <td>3146.500000</td>\n",
       "    </tr>\n",
       "    <tr>\n",
       "      <th>75%</th>\n",
       "      <td>142.000000</td>\n",
       "      <td>3.000000</td>\n",
       "      <td>3.000000</td>\n",
       "      <td>2.000000</td>\n",
       "      <td>8.000000</td>\n",
       "      <td>1000.000000</td>\n",
       "      <td>4000.000000</td>\n",
       "      <td>252.000000</td>\n",
       "      <td>54.000000</td>\n",
       "      <td>5364.750000</td>\n",
       "    </tr>\n",
       "    <tr>\n",
       "      <th>max</th>\n",
       "      <td>12732.000000</td>\n",
       "      <td>10.000000</td>\n",
       "      <td>10.000000</td>\n",
       "      <td>10.000000</td>\n",
       "      <td>301.000000</td>\n",
       "      <td>4000.000000</td>\n",
       "      <td>30000.000000</td>\n",
       "      <td>1193.000000</td>\n",
       "      <td>451.000000</td>\n",
       "      <td>31010.000000</td>\n",
       "    </tr>\n",
       "  </tbody>\n",
       "</table>\n",
       "</div>"
      ]
     },
     "metadata": {},
     "execution_count": 16
    }
   ],
   "metadata": {}
  },
  {
   "cell_type": "markdown",
   "source": [
    "We can see that area and floor still have outliers."
   ],
   "metadata": {}
  },
  {
   "cell_type": "code",
   "execution_count": 17,
   "source": [
    "df.loc[(df['floor'] > 100) | (df['area'] > 10000)]"
   ],
   "outputs": [
    {
     "output_type": "execute_result",
     "data": {
      "text/plain": [
       "                city   area  rooms  bathroom  parking spaces  floor animal  \\\n",
       "2562  Belo Horizonte     80      3         2               2    301  acept   \n",
       "9241        Campinas  12732      3         2               0      3  acept   \n",
       "\n",
       "          furniture  hoa (R$)  rent amount (R$)  property tax (R$)  \\\n",
       "2562  not furnished       750              2600                164   \n",
       "9241  not furnished       700              1600                 96   \n",
       "\n",
       "      fire insurance (R$)  total (R$)  \n",
       "2562                   35        3549  \n",
       "9241                   21        2417  "
      ],
      "text/html": [
       "<div>\n",
       "<style scoped>\n",
       "    .dataframe tbody tr th:only-of-type {\n",
       "        vertical-align: middle;\n",
       "    }\n",
       "\n",
       "    .dataframe tbody tr th {\n",
       "        vertical-align: top;\n",
       "    }\n",
       "\n",
       "    .dataframe thead th {\n",
       "        text-align: right;\n",
       "    }\n",
       "</style>\n",
       "<table border=\"1\" class=\"dataframe\">\n",
       "  <thead>\n",
       "    <tr style=\"text-align: right;\">\n",
       "      <th></th>\n",
       "      <th>city</th>\n",
       "      <th>area</th>\n",
       "      <th>rooms</th>\n",
       "      <th>bathroom</th>\n",
       "      <th>parking spaces</th>\n",
       "      <th>floor</th>\n",
       "      <th>animal</th>\n",
       "      <th>furniture</th>\n",
       "      <th>hoa (R$)</th>\n",
       "      <th>rent amount (R$)</th>\n",
       "      <th>property tax (R$)</th>\n",
       "      <th>fire insurance (R$)</th>\n",
       "      <th>total (R$)</th>\n",
       "    </tr>\n",
       "  </thead>\n",
       "  <tbody>\n",
       "    <tr>\n",
       "      <th>2562</th>\n",
       "      <td>Belo Horizonte</td>\n",
       "      <td>80</td>\n",
       "      <td>3</td>\n",
       "      <td>2</td>\n",
       "      <td>2</td>\n",
       "      <td>301</td>\n",
       "      <td>acept</td>\n",
       "      <td>not furnished</td>\n",
       "      <td>750</td>\n",
       "      <td>2600</td>\n",
       "      <td>164</td>\n",
       "      <td>35</td>\n",
       "      <td>3549</td>\n",
       "    </tr>\n",
       "    <tr>\n",
       "      <th>9241</th>\n",
       "      <td>Campinas</td>\n",
       "      <td>12732</td>\n",
       "      <td>3</td>\n",
       "      <td>2</td>\n",
       "      <td>0</td>\n",
       "      <td>3</td>\n",
       "      <td>acept</td>\n",
       "      <td>not furnished</td>\n",
       "      <td>700</td>\n",
       "      <td>1600</td>\n",
       "      <td>96</td>\n",
       "      <td>21</td>\n",
       "      <td>2417</td>\n",
       "    </tr>\n",
       "  </tbody>\n",
       "</table>\n",
       "</div>"
      ]
     },
     "metadata": {},
     "execution_count": 17
    }
   ],
   "metadata": {}
  },
  {
   "cell_type": "markdown",
   "source": [
    "There are only two values left. Let's drop them."
   ],
   "metadata": {}
  },
  {
   "cell_type": "code",
   "execution_count": 18,
   "source": [
    "df = df.loc[(df['floor'] < 100) & (df['area'] < 10000)]"
   ],
   "outputs": [],
   "metadata": {}
  },
  {
   "cell_type": "code",
   "execution_count": 19,
   "source": [
    "df.shape"
   ],
   "outputs": [
    {
     "output_type": "execute_result",
     "data": {
      "text/plain": [
       "(9348, 13)"
      ]
     },
     "metadata": {},
     "execution_count": 19
    }
   ],
   "metadata": {}
  },
  {
   "cell_type": "code",
   "execution_count": 20,
   "source": [
    "plt.figure(figsize=(30, 7))\r\n",
    "plt.subplot(1, 3, 1)\r\n",
    "sns.boxplot(x='hoa (R$)', data=df)\r\n",
    "plt.subplot(1, 3, 2)\r\n",
    "sns.boxplot(x='property tax (R$)', data=df)\r\n",
    "plt.subplot(1, 3, 3)\r\n",
    "sns.boxplot(x='area', data=df)"
   ],
   "outputs": [
    {
     "output_type": "execute_result",
     "data": {
      "text/plain": [
       "<AxesSubplot:xlabel='area'>"
      ]
     },
     "metadata": {},
     "execution_count": 20
    },
    {
     "output_type": "display_data",
     "data": {
      "text/plain": [
       "<Figure size 2160x504 with 3 Axes>"
      ],
      "image/png": "[encoded data removed]"
     },
     "metadata": {
      "needs_background": "light"
     }
    }
   ],
   "metadata": {}
  },
  {
   "cell_type": "code",
   "execution_count": 21,
   "source": [
    "df.describe()"
   ],
   "outputs": [
    {
     "output_type": "execute_result",
     "data": {
      "text/plain": [
       "              area        rooms     bathroom  parking spaces        floor  \\\n",
       "count  9348.000000  9348.000000  9348.000000     9348.000000  9348.000000   \n",
       "mean    114.099273     2.330338     1.978712        1.357617     6.504279   \n",
       "std      96.505123     1.074218     1.187682        1.362487     4.573413   \n",
       "min      11.000000     1.000000     1.000000        0.000000     1.000000   \n",
       "25%      52.000000     1.000000     1.000000        0.000000     3.000000   \n",
       "50%      80.000000     2.000000     2.000000        1.000000     7.000000   \n",
       "75%     142.000000     3.000000     3.000000        2.000000     8.000000   \n",
       "max    2000.000000    10.000000    10.000000       10.000000    51.000000   \n",
       "\n",
       "          hoa (R$)  rent amount (R$)  property tax (R$)  fire insurance (R$)  \\\n",
       "count  9348.000000       9348.000000        9348.000000          9348.000000   \n",
       "mean    723.549957       3276.962773         192.781451            44.570068   \n",
       "std     753.654397       2736.242224         243.800874            38.039608   \n",
       "min       0.000000        450.000000           0.000000             3.000000   \n",
       "25%     170.000000       1450.000000          28.000000            20.000000   \n",
       "50%     500.000000       2390.000000         100.000000            32.000000   \n",
       "75%    1000.000000       4000.000000         252.000000            54.000000   \n",
       "max    4000.000000      30000.000000        1193.000000           451.000000   \n",
       "\n",
       "         total (R$)  \n",
       "count   9348.000000  \n",
       "mean    4238.043967  \n",
       "std     3314.180933  \n",
       "min      499.000000  \n",
       "25%     1926.000000  \n",
       "50%     3146.500000  \n",
       "75%     5367.000000  \n",
       "max    31010.000000  "
      ],
      "text/html": [
       "<div>\n",
       "<style scoped>\n",
       "    .dataframe tbody tr th:only-of-type {\n",
       "        vertical-align: middle;\n",
       "    }\n",
       "\n",
       "    .dataframe tbody tr th {\n",
       "        vertical-align: top;\n",
       "    }\n",
       "\n",
       "    .dataframe thead th {\n",
       "        text-align: right;\n",
       "    }\n",
       "</style>\n",
       "<table border=\"1\" class=\"dataframe\">\n",
       "  <thead>\n",
       "    <tr style=\"text-align: right;\">\n",
       "      <th></th>\n",
       "      <th>area</th>\n",
       "      <th>rooms</th>\n",
       "      <th>bathroom</th>\n",
       "      <th>parking spaces</th>\n",
       "      <th>floor</th>\n",
       "      <th>hoa (R$)</th>\n",
       "      <th>rent amount (R$)</th>\n",
       "      <th>property tax (R$)</th>\n",
       "      <th>fire insurance (R$)</th>\n",
       "      <th>total (R$)</th>\n",
       "    </tr>\n",
       "  </thead>\n",
       "  <tbody>\n",
       "    <tr>\n",
       "      <th>count</th>\n",
       "      <td>9348.000000</td>\n",
       "      <td>9348.000000</td>\n",
       "      <td>9348.000000</td>\n",
       "      <td>9348.000000</td>\n",
       "      <td>9348.000000</td>\n",
       "      <td>9348.000000</td>\n",
       "      <td>9348.000000</td>\n",
       "      <td>9348.000000</td>\n",
       "      <td>9348.000000</td>\n",
       "      <td>9348.000000</td>\n",
       "    </tr>\n",
       "    <tr>\n",
       "      <th>mean</th>\n",
       "      <td>114.099273</td>\n",
       "      <td>2.330338</td>\n",
       "      <td>1.978712</td>\n",
       "      <td>1.357617</td>\n",
       "      <td>6.504279</td>\n",
       "      <td>723.549957</td>\n",
       "      <td>3276.962773</td>\n",
       "      <td>192.781451</td>\n",
       "      <td>44.570068</td>\n",
       "      <td>4238.043967</td>\n",
       "    </tr>\n",
       "    <tr>\n",
       "      <th>std</th>\n",
       "      <td>96.505123</td>\n",
       "      <td>1.074218</td>\n",
       "      <td>1.187682</td>\n",
       "      <td>1.362487</td>\n",
       "      <td>4.573413</td>\n",
       "      <td>753.654397</td>\n",
       "      <td>2736.242224</td>\n",
       "      <td>243.800874</td>\n",
       "      <td>38.039608</td>\n",
       "      <td>3314.180933</td>\n",
       "    </tr>\n",
       "    <tr>\n",
       "      <th>min</th>\n",
       "      <td>11.000000</td>\n",
       "      <td>1.000000</td>\n",
       "      <td>1.000000</td>\n",
       "      <td>0.000000</td>\n",
       "      <td>1.000000</td>\n",
       "      <td>0.000000</td>\n",
       "      <td>450.000000</td>\n",
       "      <td>0.000000</td>\n",
       "      <td>3.000000</td>\n",
       "      <td>499.000000</td>\n",
       "    </tr>\n",
       "    <tr>\n",
       "      <th>25%</th>\n",
       "      <td>52.000000</td>\n",
       "      <td>1.000000</td>\n",
       "      <td>1.000000</td>\n",
       "      <td>0.000000</td>\n",
       "      <td>3.000000</td>\n",
       "      <td>170.000000</td>\n",
       "      <td>1450.000000</td>\n",
       "      <td>28.000000</td>\n",
       "      <td>20.000000</td>\n",
       "      <td>1926.000000</td>\n",
       "    </tr>\n",
       "    <tr>\n",
       "      <th>50%</th>\n",
       "      <td>80.000000</td>\n",
       "      <td>2.000000</td>\n",
       "      <td>2.000000</td>\n",
       "      <td>1.000000</td>\n",
       "      <td>7.000000</td>\n",
       "      <td>500.000000</td>\n",
       "      <td>2390.000000</td>\n",
       "      <td>100.000000</td>\n",
       "      <td>32.000000</td>\n",
       "      <td>3146.500000</td>\n",
       "    </tr>\n",
       "    <tr>\n",
       "      <th>75%</th>\n",
       "      <td>142.000000</td>\n",
       "      <td>3.000000</td>\n",
       "      <td>3.000000</td>\n",
       "      <td>2.000000</td>\n",
       "      <td>8.000000</td>\n",
       "      <td>1000.000000</td>\n",
       "      <td>4000.000000</td>\n",
       "      <td>252.000000</td>\n",
       "      <td>54.000000</td>\n",
       "      <td>5367.000000</td>\n",
       "    </tr>\n",
       "    <tr>\n",
       "      <th>max</th>\n",
       "      <td>2000.000000</td>\n",
       "      <td>10.000000</td>\n",
       "      <td>10.000000</td>\n",
       "      <td>10.000000</td>\n",
       "      <td>51.000000</td>\n",
       "      <td>4000.000000</td>\n",
       "      <td>30000.000000</td>\n",
       "      <td>1193.000000</td>\n",
       "      <td>451.000000</td>\n",
       "      <td>31010.000000</td>\n",
       "    </tr>\n",
       "  </tbody>\n",
       "</table>\n",
       "</div>"
      ]
     },
     "metadata": {},
     "execution_count": 21
    }
   ],
   "metadata": {}
  },
  {
   "cell_type": "markdown",
   "source": [
    "Let's check the target variable."
   ],
   "metadata": {}
  },
  {
   "cell_type": "code",
   "execution_count": 22,
   "source": [
    "sns.boxplot(x='rent amount (R$)', data=df)"
   ],
   "outputs": [
    {
     "output_type": "execute_result",
     "data": {
      "text/plain": [
       "<AxesSubplot:xlabel='rent amount (R$)'>"
      ]
     },
     "metadata": {},
     "execution_count": 22
    },
    {
     "output_type": "display_data",
     "data": {
      "text/plain": [
       "<Figure size 432x288 with 1 Axes>"
      ],
      "image/png": "[encoded data removed]"
     },
     "metadata": {
      "needs_background": "light"
     }
    }
   ],
   "metadata": {}
  },
  {
   "cell_type": "markdown",
   "source": [
    "We can see that are three values that are way higher than others, let's check on them."
   ],
   "metadata": {}
  },
  {
   "cell_type": "code",
   "execution_count": 23,
   "source": [
    "df[df['rent amount (R$)'] > 15000]"
   ],
   "outputs": [
    {
     "output_type": "execute_result",
     "data": {
      "text/plain": [
       "           city  area  rooms  bathroom  parking spaces  floor animal  \\\n",
       "1743  São Paulo   410      4         5               5      1  acept   \n",
       "2619  São Paulo    80      2         1               1      1  acept   \n",
       "7748  São Paulo   350      3         3               3      7  acept   \n",
       "\n",
       "          furniture  hoa (R$)  rent amount (R$)  property tax (R$)  \\\n",
       "1743  not furnished         0             20000                  0   \n",
       "2619  not furnished       875             24000                  0   \n",
       "7748  not furnished         0             30000                560   \n",
       "\n",
       "      fire insurance (R$)  total (R$)  \n",
       "1743                  254       20250  \n",
       "2619                  305       25180  \n",
       "7748                  451       31010  "
      ],
      "text/html": [
       "<div>\n",
       "<style scoped>\n",
       "    .dataframe tbody tr th:only-of-type {\n",
       "        vertical-align: middle;\n",
       "    }\n",
       "\n",
       "    .dataframe tbody tr th {\n",
       "        vertical-align: top;\n",
       "    }\n",
       "\n",
       "    .dataframe thead th {\n",
       "        text-align: right;\n",
       "    }\n",
       "</style>\n",
       "<table border=\"1\" class=\"dataframe\">\n",
       "  <thead>\n",
       "    <tr style=\"text-align: right;\">\n",
       "      <th></th>\n",
       "      <th>city</th>\n",
       "      <th>area</th>\n",
       "      <th>rooms</th>\n",
       "      <th>bathroom</th>\n",
       "      <th>parking spaces</th>\n",
       "      <th>floor</th>\n",
       "      <th>animal</th>\n",
       "      <th>furniture</th>\n",
       "      <th>hoa (R$)</th>\n",
       "      <th>rent amount (R$)</th>\n",
       "      <th>property tax (R$)</th>\n",
       "      <th>fire insurance (R$)</th>\n",
       "      <th>total (R$)</th>\n",
       "    </tr>\n",
       "  </thead>\n",
       "  <tbody>\n",
       "    <tr>\n",
       "      <th>1743</th>\n",
       "      <td>São Paulo</td>\n",
       "      <td>410</td>\n",
       "      <td>4</td>\n",
       "      <td>5</td>\n",
       "      <td>5</td>\n",
       "      <td>1</td>\n",
       "      <td>acept</td>\n",
       "      <td>not furnished</td>\n",
       "      <td>0</td>\n",
       "      <td>20000</td>\n",
       "      <td>0</td>\n",
       "      <td>254</td>\n",
       "      <td>20250</td>\n",
       "    </tr>\n",
       "    <tr>\n",
       "      <th>2619</th>\n",
       "      <td>São Paulo</td>\n",
       "      <td>80</td>\n",
       "      <td>2</td>\n",
       "      <td>1</td>\n",
       "      <td>1</td>\n",
       "      <td>1</td>\n",
       "      <td>acept</td>\n",
       "      <td>not furnished</td>\n",
       "      <td>875</td>\n",
       "      <td>24000</td>\n",
       "      <td>0</td>\n",
       "      <td>305</td>\n",
       "      <td>25180</td>\n",
       "    </tr>\n",
       "    <tr>\n",
       "      <th>7748</th>\n",
       "      <td>São Paulo</td>\n",
       "      <td>350</td>\n",
       "      <td>3</td>\n",
       "      <td>3</td>\n",
       "      <td>3</td>\n",
       "      <td>7</td>\n",
       "      <td>acept</td>\n",
       "      <td>not furnished</td>\n",
       "      <td>0</td>\n",
       "      <td>30000</td>\n",
       "      <td>560</td>\n",
       "      <td>451</td>\n",
       "      <td>31010</td>\n",
       "    </tr>\n",
       "  </tbody>\n",
       "</table>\n",
       "</div>"
      ]
     },
     "metadata": {},
     "execution_count": 23
    }
   ],
   "metadata": {}
  },
  {
   "cell_type": "markdown",
   "source": [
    " The first and the third value appears to be consistent, the area is high, the number of rooms, bathrooms and parking spaces seem to make sense.\r\n",
    "\r\n",
    "The second value don't, the values are too low for this price. We will drop this value."
   ],
   "metadata": {}
  },
  {
   "cell_type": "code",
   "execution_count": 24,
   "source": [
    "# drop by index\r\n",
    "df = df.drop(2619)"
   ],
   "outputs": [],
   "metadata": {}
  },
  {
   "cell_type": "code",
   "execution_count": 25,
   "source": [
    "df.shape"
   ],
   "outputs": [
    {
     "output_type": "execute_result",
     "data": {
      "text/plain": [
       "(9347, 13)"
      ]
     },
     "metadata": {},
     "execution_count": 25
    }
   ],
   "metadata": {}
  },
  {
   "cell_type": "markdown",
   "source": [
    "We have iniated our ETL with 10692, and now we have 9347 values. So we have dropped 1345 registers that represents 12,57% of the original data."
   ],
   "metadata": {}
  },
  {
   "cell_type": "code",
   "execution_count": 26,
   "source": [
    "df.to_csv(os.path.join(os.path.abspath('../data'),'houses_to_rent_v2_etl.csv'), index=False)"
   ],
   "outputs": [],
   "metadata": {}
  },
  {
   "cell_type": "code",
   "execution_count": null,
   "source": [],
   "outputs": [],
   "metadata": {}
  }
 ]
}