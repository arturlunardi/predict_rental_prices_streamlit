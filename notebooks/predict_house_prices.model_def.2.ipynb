{
 "metadata": {
  "language_info": {
   "codemirror_mode": {
    "name": "ipython",
    "version": 3
   },
   "file_extension": ".py",
   "mimetype": "text/x-python",
   "name": "python",
   "nbconvert_exporter": "python",
   "pygments_lexer": "ipython3",
   "version": "3.8.10"
  },
  "orig_nbformat": 4,
  "kernelspec": {
   "name": "python3",
   "display_name": "Python 3.8.10 64-bit ('base': conda)"
  },
  "interpreter": {
   "hash": "fc33febecb25bf51ecb9e8745ca02a2d49ab50b5c3e3d57ffb721b0f2206d5d8"
  }
 },
 "nbformat": 4,
 "nbformat_minor": 2,
 "cells": [
  {
   "cell_type": "code",
   "execution_count": 1,
   "source": [
    "import pandas as pd\r\n",
    "from sklearn.model_selection import train_test_split\r\n",
    "from sklearn.model_selection import RandomizedSearchCV\r\n",
    "from sklearn.model_selection import cross_val_score, KFold\r\n",
    "from sklearn.feature_selection import SelectKBest, f_regression\r\n",
    "import matplotlib.pyplot as plt\r\n",
    "import seaborn as sns\r\n",
    "from sklearn.metrics import mean_squared_error, mean_absolute_error\r\n",
    "import numpy as np\r\n",
    "from datetime import datetime\r\n",
    "\r\n",
    "# pipeline\r\n",
    "from sklearn.compose import make_column_selector as selector\r\n",
    "from sklearn.pipeline import Pipeline\r\n",
    "from sklearn.preprocessing import OneHotEncoder, StandardScaler\r\n",
    "from sklearn.compose import ColumnTransformer\r\n",
    "\r\n",
    "# models\r\n",
    "from sklearn.linear_model import Ridge\r\n",
    "import xgboost as xgb\r\n",
    "import lightgbm as lgb\r\n",
    "from sklearn.ensemble import RandomForestRegressor\r\n",
    "\r\n",
    "# nn\r\n",
    "from keras.wrappers.scikit_learn import KerasRegressor\r\n",
    "from keras.models import Sequential\r\n",
    "from keras.layers import Dense\r\n",
    "from keras.layers import Dropout\r\n",
    "\r\n",
    "#load and save\r\n",
    "import pickle\r\n",
    "import os"
   ],
   "outputs": [],
   "metadata": {}
  },
  {
   "cell_type": "markdown",
   "source": [
    "Since we are working on jupyter noteeboks, it's hard to import modules from other notebooks. For the simplicity, we'll just copy the functions developed in our 'etl' noteebok to this one."
   ],
   "metadata": {}
  },
  {
   "cell_type": "code",
   "execution_count": 2,
   "source": [
    "from sklearn.base import BaseEstimator, TransformerMixin\r\n",
    "from sklearn.compose import TransformedTargetRegressor\r\n",
    "\r\n",
    "class FeatureCreation(BaseEstimator, TransformerMixin):\r\n",
    "    def __init__(self):\r\n",
    "        # print('FeatureCreation initialized')\r\n",
    "        return None\r\n",
    "    \r\n",
    "    # For the fit method, we will pass the parameter x. This is our independent variables. \r\n",
    "    # This fit method will be called when we fit the pipeline.\r\n",
    "    def fit(self, x, y=None):\r\n",
    "        # print('Fit FeatureCreation called')\r\n",
    "        return self\r\n",
    "    \r\n",
    "    # Here, we will perform all of our transformations. For creating features automatically, we could create parameters in the class and pass the column names to them.\r\n",
    "    # But in this case, since it's for this dataset specific, we will perform transformations in the column names directly into the fit method.\r\n",
    "    # The transform method is called when we caled fit and also predict in the Pipeline. And that makes sense, since we need to create our features when we will train and when we will predict.\r\n",
    "    def transform(self, x, y=None):\r\n",
    "        # print('Transform FeatureCreation called')\r\n",
    "        # creating a copy to avoid changes to the original dataset\r\n",
    "        x_ = x.copy()\r\n",
    "        # print(f'Before Transformation: {x_.shape}')\r\n",
    "        # and now, we create everyone of our features.\r\n",
    "        # Area power of two\r\n",
    "        x_['area2'] = x_['area'] ** 2\r\n",
    "        # The ratio between area and rooms\r\n",
    "        x_['area/room'] = x_['area'] / x_['rooms']\r\n",
    "        # The ratio between area and bathroom\r\n",
    "        x_['area/bathroom'] = x_['area'] / x_['bathroom']\r\n",
    "        # the sum of rooms and bathrooms\r\n",
    "        x_['rooms+bathroom'] = x_['rooms'] + x_['bathroom']\r\n",
    "        # the product between rooms and bathrooms\r\n",
    "        x_['rooms*bathroom'] = x_['rooms'] * x_['bathroom']\r\n",
    "        # the ratio between rooms and bathrooms\r\n",
    "        x_['rooms/bathroom'] = x_['rooms'] / x_['bathroom']\r\n",
    "        # the product between hoa and property tax\r\n",
    "        x_['hoa*property tax'] = x_['hoa (R$)'] * x_['property tax (R$)']\r\n",
    "        # print(f'After Transformation: {x_.shape}')\r\n",
    "        return x_"
   ],
   "outputs": [],
   "metadata": {}
  },
  {
   "cell_type": "code",
   "execution_count": 3,
   "source": [
    "# df = pd.read_csv('houses_to_rent_v2_fteng.csv')\r\n",
    "df = pd.read_csv(os.path.join(os.path.abspath('../data'), 'houses_to_rent_v2_fteng.csv'))"
   ],
   "outputs": [],
   "metadata": {}
  },
  {
   "cell_type": "code",
   "execution_count": 4,
   "source": [
    "df.head()"
   ],
   "outputs": [
    {
     "output_type": "execute_result",
     "data": {
      "text/plain": [
       "             city  area  rooms  bathroom  parking spaces     animal  \\\n",
       "0  Belo Horizonte    42      1         1               1  not acept   \n",
       "1  Belo Horizonte    64      2         2               1      acept   \n",
       "2  Belo Horizonte    80      3         2               1      acept   \n",
       "3  Belo Horizonte   200      4         2               1  not acept   \n",
       "4  Belo Horizonte    45      1         1               1      acept   \n",
       "\n",
       "       furniture  hoa (R$)  rent amount (R$)  property tax (R$)  \\\n",
       "0      furnished       470              2690                172   \n",
       "1  not furnished       352              1500                 80   \n",
       "2  not furnished         0             11000                425   \n",
       "3  not furnished       850              2550                  9   \n",
       "4  not furnished       500              1631                192   \n",
       "\n",
       "   fire insurance (R$)  \n",
       "0                   36  \n",
       "1                   20  \n",
       "2                  181  \n",
       "3                   34  \n",
       "4                   12  "
      ],
      "text/html": [
       "<div>\n",
       "<style scoped>\n",
       "    .dataframe tbody tr th:only-of-type {\n",
       "        vertical-align: middle;\n",
       "    }\n",
       "\n",
       "    .dataframe tbody tr th {\n",
       "        vertical-align: top;\n",
       "    }\n",
       "\n",
       "    .dataframe thead th {\n",
       "        text-align: right;\n",
       "    }\n",
       "</style>\n",
       "<table border=\"1\" class=\"dataframe\">\n",
       "  <thead>\n",
       "    <tr style=\"text-align: right;\">\n",
       "      <th></th>\n",
       "      <th>city</th>\n",
       "      <th>area</th>\n",
       "      <th>rooms</th>\n",
       "      <th>bathroom</th>\n",
       "      <th>parking spaces</th>\n",
       "      <th>animal</th>\n",
       "      <th>furniture</th>\n",
       "      <th>hoa (R$)</th>\n",
       "      <th>rent amount (R$)</th>\n",
       "      <th>property tax (R$)</th>\n",
       "      <th>fire insurance (R$)</th>\n",
       "    </tr>\n",
       "  </thead>\n",
       "  <tbody>\n",
       "    <tr>\n",
       "      <th>0</th>\n",
       "      <td>Belo Horizonte</td>\n",
       "      <td>42</td>\n",
       "      <td>1</td>\n",
       "      <td>1</td>\n",
       "      <td>1</td>\n",
       "      <td>not acept</td>\n",
       "      <td>furnished</td>\n",
       "      <td>470</td>\n",
       "      <td>2690</td>\n",
       "      <td>172</td>\n",
       "      <td>36</td>\n",
       "    </tr>\n",
       "    <tr>\n",
       "      <th>1</th>\n",
       "      <td>Belo Horizonte</td>\n",
       "      <td>64</td>\n",
       "      <td>2</td>\n",
       "      <td>2</td>\n",
       "      <td>1</td>\n",
       "      <td>acept</td>\n",
       "      <td>not furnished</td>\n",
       "      <td>352</td>\n",
       "      <td>1500</td>\n",
       "      <td>80</td>\n",
       "      <td>20</td>\n",
       "    </tr>\n",
       "    <tr>\n",
       "      <th>2</th>\n",
       "      <td>Belo Horizonte</td>\n",
       "      <td>80</td>\n",
       "      <td>3</td>\n",
       "      <td>2</td>\n",
       "      <td>1</td>\n",
       "      <td>acept</td>\n",
       "      <td>not furnished</td>\n",
       "      <td>0</td>\n",
       "      <td>11000</td>\n",
       "      <td>425</td>\n",
       "      <td>181</td>\n",
       "    </tr>\n",
       "    <tr>\n",
       "      <th>3</th>\n",
       "      <td>Belo Horizonte</td>\n",
       "      <td>200</td>\n",
       "      <td>4</td>\n",
       "      <td>2</td>\n",
       "      <td>1</td>\n",
       "      <td>not acept</td>\n",
       "      <td>not furnished</td>\n",
       "      <td>850</td>\n",
       "      <td>2550</td>\n",
       "      <td>9</td>\n",
       "      <td>34</td>\n",
       "    </tr>\n",
       "    <tr>\n",
       "      <th>4</th>\n",
       "      <td>Belo Horizonte</td>\n",
       "      <td>45</td>\n",
       "      <td>1</td>\n",
       "      <td>1</td>\n",
       "      <td>1</td>\n",
       "      <td>acept</td>\n",
       "      <td>not furnished</td>\n",
       "      <td>500</td>\n",
       "      <td>1631</td>\n",
       "      <td>192</td>\n",
       "      <td>12</td>\n",
       "    </tr>\n",
       "  </tbody>\n",
       "</table>\n",
       "</div>"
      ]
     },
     "metadata": {},
     "execution_count": 4
    }
   ],
   "metadata": {}
  },
  {
   "cell_type": "code",
   "execution_count": 5,
   "source": [
    "df.shape"
   ],
   "outputs": [
    {
     "output_type": "execute_result",
     "data": {
      "text/plain": [
       "(8995, 11)"
      ]
     },
     "metadata": {},
     "execution_count": 5
    }
   ],
   "metadata": {}
  },
  {
   "cell_type": "markdown",
   "source": [
    "## Model Pipeline"
   ],
   "metadata": {}
  },
  {
   "cell_type": "markdown",
   "source": [
    "In order to padronize the model definition, we will create a Pipeline. That will assure that all the data will pass to same process of transformation."
   ],
   "metadata": {}
  },
  {
   "cell_type": "code",
   "execution_count": 6,
   "source": [
    "x = df.drop(columns=['rent amount (R$)'], axis=1)\r\n",
    "y = df['rent amount (R$)']\r\n",
    "x_train, x_test, y_train, y_test = train_test_split(x,\r\n",
    "                                                    y,\r\n",
    "                                                    test_size=0.25,\r\n",
    "                                                    random_state=0)"
   ],
   "outputs": [],
   "metadata": {}
  },
  {
   "cell_type": "markdown",
   "source": [
    "Now, let's categorize our variables into numerical or categorical. This is required since the transformation of each type it's different."
   ],
   "metadata": {}
  },
  {
   "cell_type": "markdown",
   "source": [
    "Now, we will create the pipelines for every type of variable."
   ],
   "metadata": {}
  },
  {
   "cell_type": "code",
   "execution_count": 7,
   "source": [
    "# Categorical\r\n",
    "catTransformer = Pipeline(steps=[\r\n",
    "    # For categorical variables, we will use onehotencoder.\r\n",
    "    ('onehot', OneHotEncoder(handle_unknown='ignore'))\r\n",
    "])\r\n",
    "\r\n",
    "# Numerical\r\n",
    "numTransformer = Pipeline(steps=[\r\n",
    "    # For numerical features we will use standardscaler because we have already treated the dataset for outliers.\r\n",
    "    ('scaler', StandardScaler())\r\n",
    "])"
   ],
   "outputs": [],
   "metadata": {}
  },
  {
   "cell_type": "markdown",
   "source": [
    "Finally, let's integrate those pipelines with a ColumnTransformer and create our preprocessor. Everytime that we wan't to predict, this preprocessor will be applied."
   ],
   "metadata": {}
  },
  {
   "cell_type": "code",
   "execution_count": 8,
   "source": [
    "preprocessor = ColumnTransformer(\r\n",
    "    transformers=[\r\n",
    "        ('numeric', numTransformer, selector(dtype_exclude=[\"category\", \"object\"])),\r\n",
    "        ('categoric', catTransformer, selector(dtype_include=[\"category\", \"object\"]))\r\n",
    "    ])"
   ],
   "outputs": [],
   "metadata": {}
  },
  {
   "cell_type": "markdown",
   "source": [
    "## Metric and Validation"
   ],
   "metadata": {}
  },
  {
   "cell_type": "markdown",
   "source": [
    "Our target variable it's rent amount (R$), that means that we need a supervised machine learning model and our target it is a continous variable, a regression problem.\r\n",
    "\r\n",
    "I've chose to use RMSE as our metric because it is more sensible to outliers than MAE, so it give us a more wide comprehension if that is affecting our model.\r\n",
    "\r\n",
    "For validation, we will use K-Fold Cross Validation. That means that the data will be divided by K groups of samples, called folds. Then, in every iteration of K, the data will be trained in K-1 and tested in the rest. Below we have a example of how K-Fold works, according to the sci-kit learn documentation."
   ],
   "metadata": {}
  },
  {
   "cell_type": "markdown",
   "source": [
    "![kfold](https://scikit-learn.org/stable/_images/sphx_glr_plot_cv_indices_002.png)"
   ],
   "metadata": {}
  },
  {
   "cell_type": "markdown",
   "source": [
    "Let's then define our cross validation function with our validation metric."
   ],
   "metadata": {}
  },
  {
   "cell_type": "code",
   "execution_count": 9,
   "source": [
    "# We will use 5 folds\r\n",
    "n_folds = 5\r\n",
    "\r\n",
    "\r\n",
    "def rmsle_cv(model):\r\n",
    "    kf = KFold(n_folds, shuffle=True).get_n_splits(df.values)\r\n",
    "    # here we define that our scoring metric will be rmse for every iteration of the cross validation\r\n",
    "    rmse = np.sqrt(-cross_val_score(model, x_train, y_train,\r\n",
    "                   scoring=\"neg_mean_squared_error\", cv=kf))\r\n",
    "    return rmse "
   ],
   "outputs": [],
   "metadata": {}
  },
  {
   "cell_type": "markdown",
   "source": [
    "## Model Validation"
   ],
   "metadata": {}
  },
  {
   "cell_type": "markdown",
   "source": [
    "Now, we have to define a few base models to validate our metric.\r\n",
    "\r\n",
    "We will also do a Random Search to tune our models. We chose to use random search instead of grid search because [researchs](https://www.jmlr.org/papers/volume13/bergstra12a/bergstra12a.pdf) shows that random search do a better job.\r\n",
    "\r\n",
    "For the baseline we will use these models:\r\n",
    "- RandomForest\r\n",
    "- XGBoost\r\n",
    "- LGBM\r\n",
    "- Ridge\r\n",
    "- Neural Network"
   ],
   "metadata": {}
  },
  {
   "cell_type": "markdown",
   "source": [
    "Let's create the topology of the neural network.\r\n",
    "\r\n",
    "The number of hidden layers and neurons it's a import factor to make the model generalize well.\r\n",
    "\r\n",
    "From Introduction to Neural Networks for Java (second edition) by Jeff Heaton, there are two decisions to be made regarding to the hidden layers:\r\n",
    "\r\n",
    "1 - How many hidden layers to actually have in the neural network .\r\n",
    "\r\n",
    "> Problems that require two or more hidden layers are rarely encountered.\r\n",
    "\r\n",
    "2 - How many neurons will be in each of these layers.\r\n",
    "\r\n",
    "> - The number of hidden neurons should be between the size of the input layer and the size of the output layer.\r\n",
    "> - The number of hidden neurons should be 2/3 the size of the input layer, plus the size of the output layer.\r\n",
    "> - The number of hidden neurons should be less than twice the size of the input layer."
   ],
   "metadata": {}
  },
  {
   "cell_type": "code",
   "execution_count": 10,
   "source": [
    "def create_model(optimizer='adam', dropout=0.2, activation='relu', kernel_initializer='normal'):\r\n",
    "    # We initialized every parameter that we want to optimize in the neural network.\r\n",
    "    # Let's initialize our sequential model\r\n",
    "    model = Sequential()\r\n",
    "    # Our input layer will have 15 neurons, that's equal to the input_dim\r\n",
    "    model.add(Dense(units = 15, activation = activation, input_dim = 15, kernel_initializer=kernel_initializer))\r\n",
    "    # In every step we will create a dropout layer in order to optimize this parameter and prevent overfitting.\r\n",
    "    model.add(Dropout(dropout))\r\n",
    "    # Ni = number of input neurons\r\n",
    "    # No = number of output neurons\r\n",
    "    # Our nn will have only one hidden layer, and the number of neurons follow the rule: 2/3 * (Ni) + No  = 11.\r\n",
    "    model.add(Dense(units = 11, activation = activation))\r\n",
    "    model.add(Dropout(dropout))\r\n",
    "    # Our output layer have only one neuron, since it's a regression problem.\r\n",
    "    model.add(Dense(units = 1, activation = activation))\r\n",
    "\r\n",
    "    # now we compile our model utilizing the mean squared error loss function\r\n",
    "    model.compile(optimizer = optimizer, loss = 'mean_squared_error', metrics = ['accuracy'])\r\n",
    "\r\n",
    "    return model"
   ],
   "outputs": [],
   "metadata": {}
  },
  {
   "cell_type": "markdown",
   "source": [
    "Now, let's create a function to apply the Random Search through the model."
   ],
   "metadata": {}
  },
  {
   "cell_type": "code",
   "execution_count": 17,
   "source": [
    "from tempfile import mkdtemp\r\n",
    "from shutil import rmtree\r\n",
    "\r\n",
    "def get_best_param(model, custom_features=False, custom_target=False):\r\n",
    "    \"\"\"\r\n",
    "    This function return a random search object.\r\n",
    "    \"\"\"\r\n",
    "    # cachedir = mkdtemp()\r\n",
    "\r\n",
    "    # The model will be identified by a string and for each one, we will set a parameter grid. This grid will be passed to the random search\r\n",
    "    # Defined the model and the parameter grid, we instantiate the Pipeline.\r\n",
    "    # Since we are using a Pipeline, we have to optimize the parameters of our model, and to do that we will have to name the step in the pipeline and access that in the pipeline.\r\n",
    "    # In our case, our step will be named model. To access this parameters we will add a model__ in front of every parameter.\r\n",
    "    if model == 'RandomForest':\r\n",
    "        random_grid = {\r\n",
    "            'model__n_estimators': [int(x) for x in np.linspace(start = 200, stop = 800, num = 4)],\r\n",
    "            'model__max_features': ['auto', 'sqrt'],\r\n",
    "            'model__max_depth': [i for i in np.arange(1, 10)],\r\n",
    "            'model__min_samples_split': [2, 5, 10],\r\n",
    "            'model__min_samples_leaf': [1, 2, 4],\r\n",
    "            'model__bootstrap': [True, False]\r\n",
    "        }\r\n",
    "\r\n",
    "        regressor_model = RandomForestRegressor()\r\n",
    "\r\n",
    "    elif model == 'XGB':\r\n",
    "        random_grid = {\r\n",
    "            \"model__n_estimators\":[int(x) for x in np.linspace(start = 200, stop = 800, num = 4)],\r\n",
    "            \"model__learning_rate\"    : [0.05, 0.10, 0.15, 0.20, 0.25, 0.30 ],\r\n",
    "            \"model__max_depth\"        : [i for i in np.arange(1, 10)],\r\n",
    "            \"model__min_child_weight\" : [1e-3, 1, 3, 5, 7 ],\r\n",
    "            \"model__gamma\"            : [ 0.0, 0.1, 0.2 , 0.3, 0.4 ],\r\n",
    "            \"model__colsample_bytree\" : [ 0.3, 0.4, 0.5 , 0.7, 1 ] \r\n",
    "        }\r\n",
    "\r\n",
    "        regressor_model = xgb.XGBRegressor()\r\n",
    "\r\n",
    "    elif model == 'LGBM':\r\n",
    "        random_grid = {\r\n",
    "            \"model__n_estimators\": [int(x) for x in np.linspace(start = 200, stop = 2000, num = 10)],\r\n",
    "            \"model__boosting_type\": ['dart', 'goss'],\r\n",
    "            \"model__max_depth\": [i for i in np.arange(1, 51)],\r\n",
    "            \"model__num_leaves\": [int(x) for x in np.linspace(start = 10, stop = 2000, num = 10)],\r\n",
    "            \"model__learning_rate\"    : [0.05, 0.10, 0.15, 0.20, 0.25, 0.30 ],\r\n",
    "            \"model__min_child_weight\" : [1e-3, 1, 3, 5, 7 ],\r\n",
    "            \"model__colsample_bytree\" : [ 0.3, 0.4, 0.5 , 0.7, 1 ],\r\n",
    "        }\r\n",
    "\r\n",
    "        regressor_model = lgb.LGBMRegressor()\r\n",
    "\r\n",
    "    elif model == 'Ridge':\r\n",
    "        random_grid = {\r\n",
    "            \"model__alpha\": np.linspace(start=0.001, stop=1,  num=101),\r\n",
    "            \"model__fit_intercept\": [True, False]\r\n",
    "        }\r\n",
    "\r\n",
    "        regressor_model = Ridge()\r\n",
    "\r\n",
    "    elif model == 'NeuralNetwork':\r\n",
    "        random_grid = {\r\n",
    "            \"model__batch_size\": (32, 64, 128, 256),\r\n",
    "            \"model__epochs\": (50, 100, 200, 300),\r\n",
    "            \"model__activation\": ('relu', 'tanh', 'linear'),\r\n",
    "            \"model__dropout\": (0.0, 0.1, 0.2, 0.3),\r\n",
    "            \"model__kernel_initializer\": ('glorot_uniform','normal','uniform'),\r\n",
    "            \"model__optimizer\": ('SGD', 'Adam', 'RMSprop', 'Adadelta', 'Adagrad', 'Adamax', 'Nadam', 'Ftrl')\r\n",
    "        }\r\n",
    "\r\n",
    "    \r\n",
    "        # Since we are passing our model to a sci-kit learn Pipeline, we need to wrap our Keras model first.\r\n",
    "        regressor_model = KerasRegressor(build_fn=create_model, verbose=0)\r\n",
    "\r\n",
    "    # For the neural network, we have a particularity. We have to pass to the first layer the input dimension.\r\n",
    "    # Since we are doing transformations in our dataset, such as One Hot encoding, we don't know for sure how many features will exist.\r\n",
    "    # One way around that it is define a fix value of variables that will be passed, and this is possible by using SelecKBest from sci-kit learn.\r\n",
    "    # This function scores the variables according to the function passed, in our case, f_regression, and return the k variables defined.\r\n",
    "    # Defined the number of features, we just pass the input dim in our create_model function above and create another step in our Pipeline.\r\n",
    "    \r\n",
    "\r\n",
    "    # We will test for every possible combination regarding to the target transformation and the feature engineering and compute the results.\r\n",
    "    if custom_features:\r\n",
    "        if model == 'NeuralNetwork':\r\n",
    "            select_best_features = SelectKBest(k=15, score_func=f_regression)\r\n",
    "            model_pipeline = Pipeline(steps=[\r\n",
    "                        ('featurecreation', FeatureCreation()),\r\n",
    "                        ('preprocessor', preprocessor),\r\n",
    "                        ('select_k_best', select_best_features),\r\n",
    "                        ('model', regressor_model)\r\n",
    "                    ])\r\n",
    "        else:\r\n",
    "            model_pipeline = Pipeline(steps=[\r\n",
    "                        ('featurecreation', FeatureCreation()),\r\n",
    "                        ('preprocessor', preprocessor),\r\n",
    "                        ('model', regressor_model)\r\n",
    "                    ])\r\n",
    "    else:\r\n",
    "        if model == 'NeuralNetwork':\r\n",
    "            select_best_features = SelectKBest(k=15, score_func=f_regression)\r\n",
    "            model_pipeline = Pipeline(steps=[\r\n",
    "                        ('preprocessor', preprocessor),\r\n",
    "                        ('select_k_best', select_best_features),\r\n",
    "                        ('model', regressor_model)\r\n",
    "                    ])\r\n",
    "        else:\r\n",
    "            model_pipeline = Pipeline(steps=[\r\n",
    "                        ('preprocessor', preprocessor),\r\n",
    "                        ('model', regressor_model)\r\n",
    "                    ])\r\n",
    "\r\n",
    "    kf = KFold(n_folds, shuffle=True).get_n_splits(df.values)\r\n",
    "\r\n",
    "    if custom_target:\r\n",
    "        custom_pipeline = TransformedTargetRegressor(\r\n",
    "            regressor=model_pipeline,\r\n",
    "            func=np.log,\r\n",
    "            inverse_func=np.exp\r\n",
    "            )\r\n",
    "\r\n",
    "        for old_key in list(random_grid.keys()):\r\n",
    "            random_grid['regressor__' + old_key] = random_grid.pop(old_key)\r\n",
    "        rzsearch = RandomizedSearchCV(estimator=custom_pipeline, param_distributions=random_grid, cv=kf, n_jobs=-1)\r\n",
    "    else:\r\n",
    "        rzsearch = RandomizedSearchCV(estimator=model_pipeline, param_distributions=random_grid, cv=kf, n_jobs=-1)\r\n",
    "\r\n",
    "    return rzsearch"
   ],
   "outputs": [],
   "metadata": {}
  },
  {
   "cell_type": "code",
   "execution_count": 19,
   "source": [
    "# Now, let's iterate through every model, run the random search in each one and return a dataframe with the informations.\r\n",
    "def result_cv_models(custom_features=False, custom_target=False):\r\n",
    "    today = datetime.now().strftime('%Y%m%d_%H%M%S')\r\n",
    "    models = ['RandomForest', 'XGB', 'LGBM', 'Ridge', 'NeuralNetwork']\r\n",
    "    best_models = dict()\r\n",
    "    results_dict = dict()\r\n",
    "    \r\n",
    "    if custom_target:\r\n",
    "        for model in models:\r\n",
    "            rzsearch = get_best_param(model, custom_features=custom_features, custom_target=custom_target).fit(x_train, y_train)\r\n",
    "            best_models[model] = (rzsearch.best_estimator_.regressor_['model'], [rzsearch.best_params_])\r\n",
    "    else:\r\n",
    "        for model in models:\r\n",
    "            rzsearch = get_best_param(model, custom_features=custom_features, custom_target=custom_target).fit(x_train, y_train)\r\n",
    "            best_models[model] = (rzsearch.best_estimator_['model'], [rzsearch.best_params_])\r\n",
    "\r\n",
    "    for name, model in best_models.items():\r\n",
    "\r\n",
    "        if custom_features:\r\n",
    "            if name == 'NeuralNetwork':\r\n",
    "                select_best_features = SelectKBest(k=15, score_func=f_regression)\r\n",
    "                model_pipeline = Pipeline(steps=[\r\n",
    "                            ('featurecreation', FeatureCreation()),\r\n",
    "                            ('preprocessor', preprocessor),\r\n",
    "                            ('select_k_best', select_best_features),\r\n",
    "                            ('model', model[0])\r\n",
    "                        ])\r\n",
    "            else:\r\n",
    "                model_pipeline = Pipeline(steps=[\r\n",
    "                            ('featurecreation', FeatureCreation()),\r\n",
    "                            ('preprocessor', preprocessor),\r\n",
    "                            ('model', model[0])\r\n",
    "                        ])\r\n",
    "        else:\r\n",
    "            if name == 'NeuralNetwork':\r\n",
    "                select_best_features = SelectKBest(k=15, score_func=f_regression)\r\n",
    "                model_pipeline = Pipeline(steps=[\r\n",
    "                            ('preprocessor', preprocessor),\r\n",
    "                            ('select_k_best', select_best_features),\r\n",
    "                            ('model', model[0])\r\n",
    "                        ])\r\n",
    "            else:\r\n",
    "                model_pipeline = Pipeline(steps=[\r\n",
    "                            ('preprocessor', preprocessor),\r\n",
    "                            ('model', model[0])\r\n",
    "                        ])\r\n",
    "\r\n",
    "        # If we are performing a target transformation, we have to pass the pipeline to our TransformedTargetRegressor object.\r\n",
    "        if custom_target:\r\n",
    "            custom_pipeline = TransformedTargetRegressor(\r\n",
    "                regressor=model_pipeline,\r\n",
    "                func=np.log,\r\n",
    "                inverse_func=np.exp\r\n",
    "                )\r\n",
    "\r\n",
    "            scores = rmsle_cv(custom_pipeline)\r\n",
    "\r\n",
    "            # save the model\r\n",
    "            custom_pipeline.fit(x_train, y_train)\r\n",
    "\r\n",
    "            predict_test = custom_pipeline.predict(x_test)\r\n",
    "\r\n",
    "            rmse_testset = mean_squared_error(y_test, predict_test, squared=False)\r\n",
    "            mae_testset = mean_absolute_error(y_test, predict_test)\r\n",
    "\r\n",
    "            # for the neural network we need additional steps.\r\n",
    "            if name == 'NeuralNetwork':\r\n",
    "                # The keras model it is not serialized by pickle. To get around that, we save the model using the keras save method.\r\n",
    "                # Similar to the pipeline object, to access the model, we have to dig into the steps of the transformed object, and then dig into the pipeline object.\r\n",
    "                # custom_pipeline.regressor_.named_steps['model'].model.save(os.path.join(os.path.abspath(''), \"models\", f'v1_model_{name}_{round(scores.mean(), 3)}_{today}.h5'))\r\n",
    "                custom_pipeline.regressor_.named_steps['model'].model.save(os.path.join(os.path.abspath('../models'), f'v1_model_{name}_{round(scores.mean(), 3)}_{today}.h5'))\r\n",
    "                # Then, we set the model inside the pipeline equals to None to be able to serialize.\r\n",
    "                custom_pipeline.regressor_.named_steps['model'].model = None\r\n",
    "\r\n",
    "                # Into the transformed object we have to set the regressor equals None also.\r\n",
    "                # Later, we will load the pipeline and the model and add the model to the pipeline again.\r\n",
    "                custom_pipeline.regressor.set_params(model = None)\r\n",
    "\r\n",
    "            # Now, serialize and save the model.\r\n",
    "            # with open(os.path.join(os.path.abspath(''), \"models\", f\"v1_pipe_{name}_{round(scores.mean(), 3)}_{today}.pickle\"), 'wb') as f:\r\n",
    "            with open(os.path.join(os.path.abspath('../models'), f\"v1_pipe_{name}_{round(scores.mean(), 3)}_{today}.pickle\"), 'wb') as f:\r\n",
    "                pickle.dump(custom_pipeline, f, -1)\r\n",
    "\r\n",
    "        else:\r\n",
    "            scores = rmsle_cv(model_pipeline)\r\n",
    "\r\n",
    "            #save the model\r\n",
    "            model_pipeline.fit(x_train, y_train)\r\n",
    "\r\n",
    "            predict_test = model_pipeline.predict(x_test)\r\n",
    "\r\n",
    "            rmse_testset = mean_squared_error(y_test, predict_test, squared=False)\r\n",
    "            mae_testset = mean_absolute_error(y_test, predict_test)\r\n",
    "\r\n",
    "            if name == 'NeuralNetwork':\r\n",
    "                # model_pipeline.named_steps['model'].model.save(os.path.join(os.path.abspath(''), \"models\", f'v1_model_{name}_{round(scores.mean(), 3)}_{today}.h5'))\r\n",
    "                model_pipeline.named_steps['model'].model.save(os.path.join(os.path.abspath('../models'), f'v1_model_{name}_{round(scores.mean(), 3)}_{today}.h5'))\r\n",
    "                model_pipeline.named_steps['model'].model = None\r\n",
    "\r\n",
    "            # with open(os.path.join(os.path.abspath(''), \"models\", f\"v1_pipe_{name}_{round(scores.mean(), 3)}_{today}.pickle\"), 'wb') as f:\r\n",
    "            with open(os.path.join(os.path.abspath('../models'), f\"v1_pipe_{name}_{round(scores.mean(), 3)}_{today}.pickle\"), 'wb') as f:\r\n",
    "                pickle.dump(model_pipeline, f, -1)\r\n",
    "\r\n",
    "        # Here we will save our results. One important column it is the 'pipe_file_name', this will be used to load our model later.\r\n",
    "        results_dict[name] = {'name': name, 'model': model[0], 'params': model[1], 'rmse_cv': round(np.mean(scores), 3), 'std_cv': round(np.std(scores), 3), 'rmse_testset': rmse_testset, 'mae_testset': mae_testset, 'custom_features': custom_features, 'custom_target': custom_target, 'all_scores_cv': scores, 'pipe_file_name': f\"v1_pipe_{name}_{round(scores.mean(), 3)}_{today}.pickle\"}\r\n",
    "\r\n",
    "    results_df = pd.DataFrame(results_dict).T\r\n",
    "    return results_df"
   ],
   "outputs": [],
   "metadata": {}
  },
  {
   "cell_type": "code",
   "execution_count": 20,
   "source": [
    "all_results_df = list()\r\n",
    "\r\n",
    "import time\r\n",
    "start = time.time()\r\n",
    "\r\n",
    "combinations = ({'custom_feature': True, 'custom_target': True}, {'custom_feature': True, 'custom_target': False}, {'custom_feature': False, 'custom_target': True}, {'custom_feature': False, 'custom_target': False})\r\n",
    "\r\n",
    "# We have 4 possible combinations, let's get the results of each one of them.\r\n",
    "for combination in combinations:\r\n",
    "    print(combination)\r\n",
    "    results_df = result_cv_models(custom_features=combination['custom_feature'], custom_target=combination['custom_target'])\r\n",
    "    all_results_df.append(results_df)\r\n",
    "\r\n",
    "end = time.time()\r\n",
    "time_run = end-start"
   ],
   "outputs": [
    {
     "output_type": "stream",
     "name": "stdout",
     "text": [
      "{'custom_feature': True, 'custom_target': True}\n",
      "{'custom_feature': True, 'custom_target': False}\n",
      "{'custom_feature': False, 'custom_target': True}\n",
      "{'custom_feature': False, 'custom_target': False}\n"
     ]
    }
   ],
   "metadata": {}
  },
  {
   "cell_type": "code",
   "execution_count": 21,
   "source": [
    "time_run"
   ],
   "outputs": [
    {
     "output_type": "execute_result",
     "data": {
      "text/plain": [
       "2496.265648126602"
      ]
     },
     "metadata": {},
     "execution_count": 21
    }
   ],
   "metadata": {}
  },
  {
   "cell_type": "code",
   "execution_count": 22,
   "source": [
    "final_df = pd.concat(i for i in all_results_df)"
   ],
   "outputs": [],
   "metadata": {}
  },
  {
   "cell_type": "code",
   "execution_count": 23,
   "source": [
    "final_df.to_csv(os.path.join(os.path.abspath('../data'), 'model_evaluation.csv'), index=False)"
   ],
   "outputs": [],
   "metadata": {}
  },
  {
   "cell_type": "code",
   "execution_count": null,
   "source": [],
   "outputs": [],
   "metadata": {}
  }
 ]
}